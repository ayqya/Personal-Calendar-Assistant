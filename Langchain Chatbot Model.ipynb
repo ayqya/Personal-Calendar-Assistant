{
 "cells": [
  {
   "cell_type": "code",
   "execution_count": 1,
   "metadata": {},
   "outputs": [
    {
     "name": "stdout",
     "output_type": "stream",
     "text": [
      "Hello! Please ask me anything about plants!!\n"
     ]
    }
   ],
   "source": [
    "import boto3\n",
    "\n",
    "from langchain_community.llms import Bedrock\n",
    "from langchain.chains import ConversationChain\n",
    "from langchain.memory import ConversationBufferMemory\n",
    "from langchain.prompts import PromptTemplate\n",
    "\n",
    "llm = Bedrock(\n",
    "    credentials_profile_name=\"default\", model_id=\"anthropic.claude-v2:1\"\n",
    ")\n",
    "\n",
    "from langchain.chains import ConversationChain\n",
    "from langchain.memory import ConversationBufferMemory\n",
    "\n",
    "conversation = ConversationChain(\n",
    "    llm=llm, verbose=True, memory=ConversationBufferMemory()\n",
    ")\n",
    "\n",
    "\n",
    "#Text block for Plant Pal chatbot\n",
    "plant_question_template = PromptTemplate.from_template(\n",
    "    \"\"\"Human: You will be acting as a AI plant expert named Plant Pal. When I write BEGIN DIALOGUE you will enter this role,\n",
    "    and all further input from the Human: will be from a user seeking assistance about plants.\n",
    "    You should maintain a friendly customer service tone.\n",
    "    Here are some important rules for the interaction:\n",
    "    Always stay in character, as Plant Pal, an AI from Plant Pals.\n",
    "    If you are unsure how to respond, say Sorry, I did not understand that. Could you repeat the question?\n",
    "    If someone asks something irrelevant, say, Sorry, I am Plant Pal and can only provide information on plants.\n",
    "    Do you have a plant question today I can help you with?\n",
    "    Here is an example of how to respond in a standard interaction\n",
    "    <example>\n",
    "    User: Hi, how were you created and what do you do?\n",
    "    Plant Pal: Hello! My name is Plant Pal, and I was created by Plant Pals to give plant advice. What can I help you with today?\n",
    "    </example>\n",
    "    Here is the user question: <question> {user_input} </question>\n",
    "    How do you respond to the user question?\n",
    "    Think about your answer first before you respond. Put your response in <response></response> tags.\"\"\"\n",
    ")\n",
    "\n",
    "\n",
    "def question(user_question):\n",
    "    filled_template = plant_question_template.format(user_input=user_question)\n",
    "    return filled_template\n",
    "\n",
    "initial_context = \"Hello! Please ask me anything about plants!!\"\n",
    "\n",
    "#Interactive loop\n",
    "print(initial_context)\n",
    "while True:\n",
    "    try:\n",
    "        user_input = input(\"User: \")\n",
    "        if user_input == \"exit\":\n",
    "            break\n",
    "        response = conversation.predict(input=user_input)\n",
    "        print(response)\n",
    "    except KeyboardInterrupt:\n",
    "        break\n"
   ]
  }
 ],
 "metadata": {
  "kernelspec": {
   "display_name": "base",
   "language": "python",
   "name": "python3"
  },
  "language_info": {
   "codemirror_mode": {
    "name": "ipython",
    "version": 3
   },
   "file_extension": ".py",
   "mimetype": "text/x-python",
   "name": "python",
   "nbconvert_exporter": "python",
   "pygments_lexer": "ipython3",
   "version": "3.11.7"
  }
 },
 "nbformat": 4,
 "nbformat_minor": 2
}
